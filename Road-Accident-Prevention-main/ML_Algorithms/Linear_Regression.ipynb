{
  "nbformat": 4,
  "nbformat_minor": 0,
  "metadata": {
    "colab": {
      "name": "Linear Regression",
      "provenance": [],
      "collapsed_sections": []
    },
    "kernelspec": {
      "name": "python3",
      "display_name": "Python 3"
    },
    "language_info": {
      "name": "python"
    }
  },
  "cells": [
    {
      "cell_type": "markdown",
      "source": [
        "# Step 1 Importing libraries \n",
        "\n",
        "We are predicting the profit using 1000_Companies data set \n",
        "First we have to import all the libraries required then we have to start coding.\n",
        "\n",
        "So first we will import numpy, pandas, matplotlib, seaborn, io for file reading"
      ],
      "metadata": {
        "id": "qYCT8JOfYgyR"
      }
    },
    {
      "cell_type": "code",
      "execution_count": null,
      "metadata": {
        "id": "9VB1wvsuPRod"
      },
      "outputs": [],
      "source": [
        "import numpy as np\n",
        "import pandas as pd\n",
        "import matplotlib.pyplot as plt\n",
        "import seaborn as sns        #seaborn always works on matplot library so before using seaborn we have to import matplotlib\n",
        "import io\n"
      ]
    },
    {
      "cell_type": "markdown",
      "source": [
        "# Step 2 Obtaining Data Set\n",
        "\n",
        "Now we have all the libraries imported, now we have to upload the data set, there are many ways we can upload the dataset one way is as shown"
      ],
      "metadata": {
        "id": "GUxI8tPOZBNk"
      }
    },
    {
      "cell_type": "code",
      "source": [
        "from google.colab import files\n",
        "uploaded = files.upload()       # for importing files \n",
        "\n",
        "df = pd.read_csv(io.BytesIO(uploaded['1000_Companies.csv']))        # converting the files into data frame, I have downloaded it before \n",
        "print(df.head())"
      ],
      "metadata": {
        "colab": {
          "resources": {
            "http://localhost:8080/nbextensions/google.colab/files.js": {
              "data": "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",
              "ok": true,
              "headers": [
                [
                  "content-type",
                  "application/javascript"
                ]
              ],
              "status": 200,
              "status_text": ""
            }
          },
          "base_uri": "https://localhost:8080/",
          "height": 177
        },
        "id": "i27-Yc5RZ1uF",
        "outputId": "6c2f6f72-7d0c-42de-d43f-3a5dd6c6925a"
      },
      "execution_count": null,
      "outputs": [
        {
          "output_type": "display_data",
          "data": {
            "text/plain": [
              "<IPython.core.display.HTML object>"
            ],
            "text/html": [
              "\n",
              "     <input type=\"file\" id=\"files-728026cc-6d52-45d8-952a-f110061e740c\" name=\"files[]\" multiple disabled\n",
              "        style=\"border:none\" />\n",
              "     <output id=\"result-728026cc-6d52-45d8-952a-f110061e740c\">\n",
              "      Upload widget is only available when the cell has been executed in the\n",
              "      current browser session. Please rerun this cell to enable.\n",
              "      </output>\n",
              "      <script src=\"/nbextensions/google.colab/files.js\"></script> "
            ]
          },
          "metadata": {}
        },
        {
          "output_type": "stream",
          "name": "stdout",
          "text": [
            "Saving 1000_Companies.csv to 1000_Companies (15).csv\n",
            "   R&D Spend  Administration  Marketing Spend       State     Profit\n",
            "0  165349.20       136897.80        471784.10    New York  192261.83\n",
            "1  162597.70       151377.59        443898.53  California  191792.06\n",
            "2  153441.51       101145.55        407934.54     Florida  191050.39\n",
            "3  144372.41       118671.85        383199.62    New York  182901.99\n",
            "4  142107.34        91391.77        366168.42     Florida  166187.94\n"
          ]
        }
      ]
    },
    {
      "cell_type": "markdown",
      "source": [
        "# Step 3 Observing the dataset\n",
        "\n",
        "Now after importing the data set, we have to look into the data set by printing the dataset or printing only first 5 rows to know what columns are present and what labels we are going to use to estimate the hypothesis "
      ],
      "metadata": {
        "id": "J312fYthZXWw"
      }
    },
    {
      "cell_type": "code",
      "source": [
        "\n",
        "Y = df.iloc[:,4].values                              #  taking all rows : but taking only 5th column indexing starts from 0 as we want to predict this value\n",
        "X = df.iloc[:, :-1].values                                #  taking all rows : here but taking only till 4th column but not taking last column\n",
        "# print(X)\n"
      ],
      "metadata": {
        "id": "ev860bnqRMu5"
      },
      "execution_count": null,
      "outputs": []
    },
    {
      "cell_type": "markdown",
      "source": [
        "# Step 4  Graphs\n",
        "\n",
        "Here we will look into the relation between the variables, correlation, covariance etc between the labels of the data set by plotting the correlation heatmap in seaborn library"
      ],
      "metadata": {
        "id": "kgaMhO3KZulD"
      }
    },
    {
      "cell_type": "code",
      "source": [
        "# data visualisation \n",
        "# builidng the correlation matrix \n",
        "# seaborn uses matplotlib recognises the dataframe and put into sea born\n",
        "\n",
        "sns.heatmap(df.corr())\n",
        "\n",
        "#look at the graph we can infer a lot between variables this gives the correlation between the variables \n",
        "# we do not need graphs or plots of these we need to set up or build a data for our model "
      ],
      "metadata": {
        "colab": {
          "base_uri": "https://localhost:8080/",
          "height": 361
        },
        "id": "L1kDZ-aXaYNq",
        "outputId": "8e7c70cf-95d4-4059-ba90-28d015c03ce4"
      },
      "execution_count": null,
      "outputs": [
        {
          "output_type": "execute_result",
          "data": {
            "text/plain": [
              "<matplotlib.axes._subplots.AxesSubplot at 0x7f3a2dbbd590>"
            ]
          },
          "metadata": {},
          "execution_count": 119
        },
        {
          "output_type": "display_data",
          "data": {
            "text/plain": [
              "<Figure size 432x288 with 2 Axes>"
            ],
            "image/png": "[encoded data removed]"
          },
          "metadata": {
            "needs_background": "light"
          }
        }
      ]
    },
    {
      "cell_type": "markdown",
      "source": [
        "# Step 5     Encoding Categorical Data \n",
        "\n",
        "In machine learning, we usually deal with datasets that contain multiple labels in one or more than one columns. These labels can be in the form of words or numbers. To make the data understandable or in human-readable form, the training data is often labelled in words. \n",
        "\n",
        "# Label Encoding\n",
        "Label Encoding refers to converting the labels into a numeric form so as to convert them into the machine-readable form. Machine learning algorithms can then decide in a better way how those labels must be operated. It is an important pre-processing step for the structured dataset in supervised learning.\n",
        "Suppose we have a column Height in some dataset, with entries in it as tall, small, medium we encode it as 3,1,2 respectively that way. For suppose if we have male and female in gender column\n",
        "\n",
        "# Limitation of label Encoding \n",
        "Label encoding converts the data in machine-readable form, but it assigns a unique number(starting from 0) to each class of data. This may lead to the generation of priority issues in the training of data sets. A label with a high value may be considered to have high priority than a label having a lower value.\n",
        "\n",
        "# Example\n",
        "An attribute having output classes Mexico, Paris, Dubai. On Label Encoding, this column lets Mexico is replaced with 0, Paris is replaced with 1, and Dubai is replaced with 2. \n",
        "With this, it can be interpreted that Dubai has high priority than Mexico and Paris while training the model, But actually, there is no such priority relation between these cities here.\n",
        "\n",
        "One approach to solve this problem can be label encoding where we will assign a numerical value to these labels for example Male and Female mapped to 0 and 1. But this can add bias in our model as it will start giving higher preference to the Female parameter as 1>0 and ideally both labels are equally important in the dataset. To deal with this issue we will use One Hot Encoding technique.\n",
        "\n",
        "# One Hot Encoding:\n",
        "In this technique, the categorical parameters will prepare separate columns for both Male and Female labels. So, wherever there is Male, the value will be 1 in Male column and 0 in Female column, and vice-versa. Let’s understand with an example: Consider the data where fruits and their corresponding categorical values and prices are given.\n",
        "\n",
        "The 'categorical_features' keyword is deprecated in version 0.20 and will be removed in 0.22. You can use the ColumnTransformer instead.\n",
        "\"use the ColumnTransformer instead.\", DeprecationWarning)  so we use columntransfer as shown "
      ],
      "metadata": {
        "id": "v2fAH3cyXYqi"
      }
    },
    {
      "cell_type": "code",
      "source": [
        "# Encoding categorical data\n",
        "from sklearn.preprocessing import LabelEncoder, OneHotEncoder\n",
        "from sklearn.compose import ColumnTransformer\n",
        "labelencoder = LabelEncoder()                                             # created a variable so that can use later\n",
        "X[:, 3] = labelencoder.fit_transform(X[:, 3])\n",
        "ct = ColumnTransformer([(\"State\", OneHotEncoder(),[3])], remainder=\"passthrough\")\n",
        "ct.fit_transform(X)   \n",
        "print(X) \n"
      ],
      "metadata": {
        "colab": {
          "base_uri": "https://localhost:8080/"
        },
        "id": "WHfAtepCafl6",
        "outputId": "9dfb390c-a98d-4a46-9f03-a937ebad2976"
      },
      "execution_count": null,
      "outputs": [
        {
          "output_type": "stream",
          "name": "stdout",
          "text": [
            "[[165349.2 136897.8 471784.1 2]\n",
            " [162597.7 151377.59 443898.53 0]\n",
            " [153441.51 101145.55 407934.54 1]\n",
            " ...\n",
            " [100275.47 241926.31 227142.82 0]\n",
            " [128456.23 321652.14 281692.32 0]\n",
            " [161181.72 270939.86 295442.17 2]]\n"
          ]
        }
      ]
    },
    {
      "cell_type": "code",
      "source": [
        "#X = X[:, 1:]\n",
        "print(X)\n",
        "\n",
        "# if we see fourth column is changed to numericals instead of words "
      ],
      "metadata": {
        "colab": {
          "base_uri": "https://localhost:8080/"
        },
        "id": "iSk5odekfVE4",
        "outputId": "ef25e113-30bc-4c59-d068-8dc46780719d"
      },
      "execution_count": null,
      "outputs": [
        {
          "output_type": "stream",
          "name": "stdout",
          "text": [
            "[[165349.2 136897.8 471784.1 2]\n",
            " [162597.7 151377.59 443898.53 0]\n",
            " [153441.51 101145.55 407934.54 1]\n",
            " ...\n",
            " [100275.47 241926.31 227142.82 0]\n",
            " [128456.23 321652.14 281692.32 0]\n",
            " [161181.72 270939.86 295442.17 2]]\n"
          ]
        }
      ]
    },
    {
      "cell_type": "code",
      "source": [
        "# Splitting the dataset into the Training set and Test set\n",
        "from sklearn.model_selection import train_test_split\n",
        "X_train, X_test, y_train, y_test = train_test_split(X, Y, test_size = 0.3, random_state = 0)         # taking 0.3 which means 300 as test size we can even take 0.2 it gave 91.1% accuracy"
      ],
      "metadata": {
        "id": "b7WcNVG_iDre"
      },
      "execution_count": null,
      "outputs": []
    },
    {
      "cell_type": "code",
      "source": [
        "# Fitting Multiple Linear Regression to the Training set\n",
        "from sklearn.linear_model import LinearRegression\n",
        "regressor = LinearRegression()\n",
        "regressor.fit(X_train, y_train)"
      ],
      "metadata": {
        "colab": {
          "base_uri": "https://localhost:8080/"
        },
        "id": "QSNNvmg0iKtD",
        "outputId": "c106aa25-4cc8-4600-8744-a5361286aff2"
      },
      "execution_count": null,
      "outputs": [
        {
          "output_type": "execute_result",
          "data": {
            "text/plain": [
              "LinearRegression()"
            ]
          },
          "metadata": {},
          "execution_count": 123
        }
      ]
    },
    {
      "cell_type": "code",
      "source": [
        "# Predicting the Test set results\n",
        "y_pred = regressor.predict(X_test)\n",
        "print(y_pred)"
      ],
      "metadata": {
        "colab": {
          "base_uri": "https://localhost:8080/"
        },
        "id": "8Hw1LJOjiOAt",
        "outputId": "2c0b52d3-9de5-4ed6-cb2c-9f1027530855"
      },
      "execution_count": null,
      "outputs": [
        {
          "output_type": "stream",
          "name": "stdout",
          "text": [
            "[ 89229.84240672  87863.57359396  94344.10707643 175895.22780744\n",
            "  82980.10370555 110194.56108429 131145.70101021  90915.96765644\n",
            " 164327.69446375  53192.42691382  66343.76579396 150730.60351131\n",
            " 126428.6376229   58716.22001532 177128.4726056   74868.47412819\n",
            " 118347.71223061 164163.10652744 175361.94494987 181834.67901715\n",
            " 123931.93385785  85100.94211769 181217.57120963  83573.02539329\n",
            " 104475.47586626 100695.66614769  55869.41048033  56396.76116702\n",
            "  68293.85868702 211295.84575218 120883.34880413 111207.9392621\n",
            " 101092.40806137 138097.99134639  63357.57857647 108335.2495546\n",
            " 185788.17407412 171648.53078766 174856.55395055 117769.90686372\n",
            "  96326.37421582 165042.71190733 107199.41503089  50158.08929082\n",
            " 116609.99719297  58009.44033117 158596.32198653  78561.69056487\n",
            " 159910.14115752 131263.20822855 185113.45777499 174821.30101551\n",
            "  93192.79566122  77899.37238042 180508.82221402  84493.65299022\n",
            " 143049.74835815 170361.11676696  83935.37411825 104919.50834711\n",
            " 141806.43514537  52033.9872065  141386.22819423 138856.11118755\n",
            "  97750.75077428 113677.1194517  126409.22208131 151841.25329954\n",
            "  58383.82668438 174497.14534811 124132.89343814 168663.45314889\n",
            "  91324.9968293  155884.17070976  83735.53314907  77435.06461165\n",
            " 120517.92138076  92968.74076374 138558.24960958 143151.45776522\n",
            " 171353.60934191 139622.71831153 105983.97695123 155212.28347229\n",
            " 139711.64131286 109794.74048192  69072.00418905  87726.36152698\n",
            " 139673.44825531 148177.52062343 157633.92337955  57909.70013967\n",
            "  93296.33571961 112734.74650559  56070.88580744 107031.24905396\n",
            " 147510.54272599 151849.85164321 167545.17571663 118247.36182395\n",
            " 120867.87189321 139171.05829418 157244.42071131 122069.05341776\n",
            "  86667.0517921  104865.58865378  94927.43190263 178147.7309306\n",
            " 181566.05166083 109452.52837116 164844.09136266 167401.2236486\n",
            " 157719.90625837 174533.86834441 169796.70813044  51666.47951059\n",
            " 176551.52718068 104220.96632262  82135.39076847 138569.78798764\n",
            " 144426.33500723 161865.39302734 169864.38503669 120554.89401381\n",
            " 159061.48958975 109693.77985814 169415.30444425  60141.81701092\n",
            " 158614.62804723 157745.34061118 174262.16229938 156008.84599805\n",
            " 103181.4327194   85208.781299   141146.33581517 165650.97183226\n",
            " 121287.46863695 173089.32322528 100569.88148604  82124.82320729\n",
            " 178260.00799668 101253.69539263  70049.99065056  89832.08352043\n",
            "  60771.57265506  68451.56796796  72784.4974839  176527.4519261\n",
            "  89747.21001498 133502.49725894  92721.35961004  88691.58463269\n",
            " 172441.54308133  60275.09054795 169216.93353633 166042.69334505\n",
            " 165619.4077052  102237.9503021  181359.19337226  73713.11311927\n",
            "  90709.60862196 135322.71202087  64454.22152475  71320.81839669\n",
            "  60126.70069298 184520.17549719 176502.26729816 158627.02617161\n",
            " 141043.51692721 154321.86090418  58068.26926282  90662.92827188\n",
            " 152592.74411238 168597.85641348  72031.89719988 116159.44664681\n",
            "  80111.10300169 149530.03211575 116442.08084308 129711.46587662\n",
            " 174746.49582686 312544.61058801 145822.94740531 150349.44946187\n",
            "  86142.80552848  69970.27612187  70100.11037723  68431.43134406\n",
            " 120309.59303094  89258.57736458 167020.92954113 125025.3961965\n",
            "  66745.66667471 136207.67292214 118041.00278947 165488.96333057\n",
            " 168855.80524559 146563.26043985 141080.48955055 108706.19652539\n",
            "  81996.09842312 156715.87531507 136111.17545705  60095.38619491\n",
            " 142936.86106526 176607.41609153  86868.25185951 136161.90539112\n",
            " 169863.52519254  94673.78230096 136811.07648195 125958.67153515\n",
            "  26824.17555946  71059.67992255 166577.86776962 139103.99160504\n",
            " 126900.18463711 137925.16564678  82185.05189108 130372.67468771\n",
            " 170207.45688406 108964.39497484 123835.1428329  117132.523778\n",
            "  60011.12291044 126197.70407976 179351.13138782  53832.13990787\n",
            " 122750.44392207 173420.63902373  69532.37341526 152339.34413775\n",
            " 134222.49102227  59794.44593309  85761.04135005  84415.15889576\n",
            "  98118.25847601  75806.54785355 127922.16115858 110026.0345173\n",
            "  59367.97063568 101415.34330426 147466.94106461 158826.14605849\n",
            " 161162.66283324 185261.95858328  55277.26340226 153551.0056032\n",
            "  66801.55558555 163853.56801492  64128.59588421  59010.89183694\n",
            " 140230.11839231  61709.64637848  60983.58992137 129454.37699618\n",
            " 168099.40509273 120935.79843621  65531.83732032  26881.13856777\n",
            " 147003.24342483 177747.05047437 175771.66199035 138614.99836458\n",
            "  76492.33107547 180787.65654146 105183.11529285 102020.16385259\n",
            " 173142.30395038 128856.29634138 144305.70931265 121040.08737572\n",
            " 123368.86574879 105721.97872106  73772.19168185 110719.55623874\n",
            "  80466.82269832 152150.18169278 126296.83415003  65603.20313238\n",
            "  77225.5158179   92528.14766918 156521.55390302 144481.36406423\n",
            " 164757.85875897  52785.38250323  99485.02653316 159845.90363757\n",
            " 142030.24041581  89860.70752498  98778.85707    170402.02793286\n",
            " 181979.37995661 140522.70994236 159234.56491641 142294.56854168\n",
            " 344096.09798756 139396.58324321 143903.8084222  118231.40780841]\n"
          ]
        }
      ]
    },
    {
      "cell_type": "code",
      "source": [
        "# Calculating the Coefficients\n",
        "print(regressor.coef_)"
      ],
      "metadata": {
        "colab": {
          "base_uri": "https://localhost:8080/"
        },
        "id": "xYdWJCMSiRPY",
        "outputId": "a9f4d518-a0f1-44d5-b8ba-2b9ac4ea022d"
      },
      "execution_count": null,
      "outputs": [
        {
          "output_type": "stream",
          "name": "stdout",
          "text": [
            "[ 5.28077058e-01  9.78263293e-01  9.70601727e-02 -2.78834327e+02]\n"
          ]
        }
      ]
    },
    {
      "cell_type": "code",
      "source": [
        "# Calculating the Intercept\n",
        "print(regressor.intercept_)"
      ],
      "metadata": {
        "colab": {
          "base_uri": "https://localhost:8080/"
        },
        "id": "jcW_bit3iTqt",
        "outputId": "1e449465-b732-44d0-b16d-4fd63d58adf5"
      },
      "execution_count": null,
      "outputs": [
        {
          "output_type": "stream",
          "name": "stdout",
          "text": [
            "-65740.27690882169\n"
          ]
        }
      ]
    },
    {
      "cell_type": "code",
      "source": [
        "# Calculating the R squared value\n",
        "from sklearn.metrics import r2_score\n",
        "r2_score(y_test, y_pred)"
      ],
      "metadata": {
        "colab": {
          "base_uri": "https://localhost:8080/"
        },
        "id": "rkSDhdLSiWSE",
        "outputId": "d368f7c2-34bd-47a4-c6c8-bf70bff26bbf"
      },
      "execution_count": null,
      "outputs": [
        {
          "output_type": "execute_result",
          "data": {
            "text/plain": [
              "0.9310910297784432"
            ]
          },
          "metadata": {},
          "execution_count": 127
        }
      ]
    }
  ]
}